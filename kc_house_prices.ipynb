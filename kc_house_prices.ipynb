{
 "cells": [
  {
   "cell_type": "markdown",
   "metadata": {},
   "source": [
    "### Aula 04 - Resolução dos Exercícios\n",
    "\n",
    "### Novas perguntas do CEO para vocês"
   ]
  },
  {
   "cell_type": "markdown",
   "metadata": {
    "ExecuteTime": {
     "end_time": "2021-02-27T22:42:51.242679Z",
     "start_time": "2021-02-27T22:42:51.236168Z"
    }
   },
   "source": [
    "1. Qual a média do preço de compra dos imóveis por “Nível”? \n",
    "        - Nível 0 -> Preço entre R$ 0 e R$ 321.950\n",
    "        - Nível 1 -> Preço entre R$ 321.950 e R$ 450.000\n",
    "        - Nível 2 -> Preço entre R$ 450.000 e R$ 645.000\n",
    "        - Nível 3 -> Acima de R$ 645.000\n",
    "\n",
    "2. Qual a média do tamanho da sala de estar dos imóveis por “Size” ?\n",
    "        - Size 0 -> Tamanho entre 0 e 1427 sqft\n",
    "        - Size 1 -> Tamanho entre 1427 e 1910 sqft\n",
    "        - Size 2 -> Tamanho entre 1910 e 2550 sqft\n",
    "        - Size 3 -> Tamanho acima de 2550 sqft\n",
    "\n",
    "3. Adicione as seguinte informações ao conjunto de dados original:\n",
    "        - Place ID: Identificação da localização\n",
    "        - OSM Type: Open Street Map type\n",
    "        - Country: Nome do País\n",
    "        - Country Code: Código do País\n",
    "\n",
    "4. Adicione os seguinte filtros no Mapa:\n",
    "        - Tamanho mínimo da área da sala de estar.\n",
    "        - Número mínimo de banheiros.\n",
    "        - Valor Máximo do Preço.\n",
    "        - Tamanho máximo da área do porão.\n",
    "        - Filtro das Condições do Imóvel.\n",
    "        - Filtro por Ano de Construção.\n",
    "\n",
    "5. Adicione os seguinte filtros no Dashboard:\n",
    "        - Filtro por data disponível para compra.\n",
    "        - Filtro por ano de renovação.\n",
    "        - Filtro se possui vista para a água ou não."
   ]
  },
  {
   "cell_type": "markdown",
   "metadata": {},
   "source": [
    "### Resolução"
   ]
  },
  {
   "cell_type": "code",
   "execution_count": 3,
   "metadata": {},
   "outputs": [],
   "source": [
    "# Libraries\n",
    "\n",
    "import pandas as pd\n",
    "import numpy  as np\n",
    "import seaborn as sns\n",
    "from matplotlib import gridspec\n",
    "from matplotlib import pyplot as plt\n",
    "import plotly.express as px\n",
    "import ipywidgets as widgets\n",
    "from ipywidgets import fixed"
   ]
  },
  {
   "cell_type": "code",
   "execution_count": 16,
   "metadata": {},
   "outputs": [],
   "source": [
    "# Functions"
   ]
  },
  {
   "cell_type": "code",
   "execution_count": 17,
   "metadata": {},
   "outputs": [
    {
     "name": "stdout",
     "output_type": "stream",
     "text": [
      "Overwriting defs.py\n"
     ]
    }
   ],
   "source": [
    "%%writefile defs.py\n",
    "# THIS FUNCION WILL BE SAVED AS A .PY FILE NAMED 'defs'\n",
    "\n",
    "import time\n",
    "import geopy.geocoders\n",
    "from geopy.geocoders import Nominatim\n",
    "import certifi\n",
    "import ssl\n",
    "\n",
    "ctx = ssl.create_default_context()\n",
    "ctx.check_hostname = False\n",
    "ctx.verify_mode = ssl.CERT_NONE\n",
    "geopy.geocoders.options.default_ssl_context = ctx\n",
    "\n",
    "geolocator = Nominatim( user_agent='geopyExercises')\n",
    "\n",
    "def get_data(x):\n",
    "    index, row = x\n",
    "   \n",
    "    #API request\n",
    "    response = geolocator.reverse( row['latlong'] )\n",
    "    address = response.raw['address']\n",
    "\n",
    "    place_id = response.raw['place_id'] if 'place_id' in response.raw else 'NA'\n",
    "    osm_type = response.raw['osm_type'] if 'osm_type' in response.raw else 'NA'\n",
    "    country = address['country'] if 'country' in address else 'NA'\n",
    "    country_code = address['country_code'] if 'country_code' in address else 'NA'\n",
    "\n",
    "    return place_id, osm_type, country, country_code"
   ]
  },
  {
   "cell_type": "code",
   "execution_count": 18,
   "metadata": {},
   "outputs": [
    {
     "name": "stdout",
     "output_type": "stream",
     "text": [
      "Overwriting defs.py\n"
     ]
    }
   ],
   "source": [
    "%%writefile defs.py\n",
    "# ------------------------------\n",
    "# Arquivo defs.py\n",
    "# ------------------------------\n",
    "\n",
    "import time\n",
    "from geopy.geocoders import Nominatim\n",
    "\n",
    "geolocator = Nominatim( user_agent='geopiExercises' )\n",
    "\n",
    "def get_longlat( x ):\n",
    "   index, row = x\n",
    "   time.sleep(1)\n",
    "   response = geolocator.reverse( row['query'] )\n",
    "   address = response.raw['address']\n",
    "\n",
    "   try:\n",
    "       place_id = response.raw['place_id'] if 'place_id' in response.raw else 'NA'\n",
    "       osm_type = response.raw['osm_type'] if 'osm_type' in response.raw else 'NA'\n",
    "\n",
    "       country = address['country'] if 'country' in address else 'NA'\n",
    "       country_code = address['country_code'] if 'country_code' in address else 'NA'\n",
    "\n",
    "       return place_id, osm_type, country, country_code\n",
    "\n",
    "   except:\n",
    "       return None, None, None, None"
   ]
  },
  {
   "cell_type": "code",
   "execution_count": 6,
   "metadata": {
    "ExecuteTime": {
     "end_time": "2021-02-28T13:29:27.681469Z",
     "start_time": "2021-02-28T13:29:27.678071Z"
    }
   },
   "outputs": [],
   "source": [
    "# Extract\n",
    "\n",
    "# loading data into memory\n",
    "data = pd.read_csv( 'Datasets/kc_house_data.csv' )\n"
   ]
  },
  {
   "cell_type": "code",
   "execution_count": 7,
   "metadata": {},
   "outputs": [],
   "source": [
    "# Transform\n",
    "\n",
    "# Transform date to timestamp format\n",
    "data['date'] = pd.to_datetime( data['date'], format='%Y-%m-%d' )\n",
    "\n",
    "# Supress Scientific Notation\n",
    "np.set_printoptions(suppress=True)\n",
    "pd.set_option('display.float_format', '{:.2f}'.format)\n",
    "\n",
    "#Add 'level' column to data set accordingly to criteria\n",
    "data['level'] = data['price'].apply( lambda x: 'lv0' if x <= 321950 else \n",
    "                                               'lv1' if ( x > 321950 ) & ( x <= 450000 ) else\n",
    "                                               'lv2' if ( x > 450000 ) & ( x <= 645000 ) else 'lv3' )\n",
    "\n",
    "#Add 'size' column to data set accordingly to criteria\n",
    "data['size'] = data['sqft_living'].apply( lambda x: 'size0' if x <= 1427 else \n",
    "                                                    'size1' if ( x > 1427 ) & ( x <= 1910 ) else\n",
    "                                                    'size2' if ( x > 1910 ) & ( x <= 2550 ) else 'size3' )                                               "
   ]
  },
  {
   "cell_type": "code",
   "execution_count": 15,
   "metadata": {},
   "outputs": [
    {
     "data": {
      "text/html": [
       "<div>\n",
       "<style scoped>\n",
       "    .dataframe tbody tr th:only-of-type {\n",
       "        vertical-align: middle;\n",
       "    }\n",
       "\n",
       "    .dataframe tbody tr th {\n",
       "        vertical-align: top;\n",
       "    }\n",
       "\n",
       "    .dataframe thead th {\n",
       "        text-align: right;\n",
       "    }\n",
       "</style>\n",
       "<table border=\"1\" class=\"dataframe\">\n",
       "  <thead>\n",
       "    <tr style=\"text-align: right;\">\n",
       "      <th></th>\n",
       "      <th>level</th>\n",
       "      <th>price</th>\n",
       "    </tr>\n",
       "  </thead>\n",
       "  <tbody>\n",
       "    <tr>\n",
       "      <th>0</th>\n",
       "      <td>lv0</td>\n",
       "      <td>251557.65</td>\n",
       "    </tr>\n",
       "    <tr>\n",
       "      <th>1</th>\n",
       "      <td>lv1</td>\n",
       "      <td>385688.68</td>\n",
       "    </tr>\n",
       "    <tr>\n",
       "      <th>2</th>\n",
       "      <td>lv2</td>\n",
       "      <td>539730.96</td>\n",
       "    </tr>\n",
       "    <tr>\n",
       "      <th>3</th>\n",
       "      <td>lv3</td>\n",
       "      <td>987540.22</td>\n",
       "    </tr>\n",
       "  </tbody>\n",
       "</table>\n",
       "</div>"
      ],
      "text/plain": [
       "  level     price\n",
       "0   lv0 251557.65\n",
       "1   lv1 385688.68\n",
       "2   lv2 539730.96\n",
       "3   lv3 987540.22"
      ]
     },
     "metadata": {},
     "output_type": "display_data"
    },
    {
     "data": {
      "text/html": [
       "<div>\n",
       "<style scoped>\n",
       "    .dataframe tbody tr th:only-of-type {\n",
       "        vertical-align: middle;\n",
       "    }\n",
       "\n",
       "    .dataframe tbody tr th {\n",
       "        vertical-align: top;\n",
       "    }\n",
       "\n",
       "    .dataframe thead th {\n",
       "        text-align: right;\n",
       "    }\n",
       "</style>\n",
       "<table border=\"1\" class=\"dataframe\">\n",
       "  <thead>\n",
       "    <tr style=\"text-align: right;\">\n",
       "      <th></th>\n",
       "      <th>size</th>\n",
       "      <th>sqft_living</th>\n",
       "    </tr>\n",
       "  </thead>\n",
       "  <tbody>\n",
       "    <tr>\n",
       "      <th>0</th>\n",
       "      <td>size0</td>\n",
       "      <td>1123.83</td>\n",
       "    </tr>\n",
       "    <tr>\n",
       "      <th>1</th>\n",
       "      <td>size1</td>\n",
       "      <td>1664.96</td>\n",
       "    </tr>\n",
       "    <tr>\n",
       "      <th>2</th>\n",
       "      <td>size2</td>\n",
       "      <td>2211.79</td>\n",
       "    </tr>\n",
       "    <tr>\n",
       "      <th>3</th>\n",
       "      <td>size3</td>\n",
       "      <td>3329.61</td>\n",
       "    </tr>\n",
       "  </tbody>\n",
       "</table>\n",
       "</div>"
      ],
      "text/plain": [
       "    size  sqft_living\n",
       "0  size0      1123.83\n",
       "1  size1      1664.96\n",
       "2  size2      2211.79\n",
       "3  size3      3329.61"
      ]
     },
     "metadata": {},
     "output_type": "display_data"
    }
   ],
   "source": [
    "# Load\n",
    "\n",
    "# 'level' dataset\n",
    "df = data[['level', 'price']].groupby( 'level' ).mean().reset_index()\n",
    "display(df)\n",
    "\n",
    "# 'size' dataset\n",
    "df = data[['size', 'sqft_living']].groupby( 'size' ).mean().reset_index()\n",
    "display(df)\n"
   ]
  },
  {
   "cell_type": "code",
   "execution_count": null,
   "metadata": {
    "ExecuteTime": {
     "end_time": "2021-02-28T13:27:32.314489Z",
     "start_time": "2021-02-28T13:27:32.312093Z"
    }
   },
   "outputs": [],
   "source": [
    "# ------------------------------\n",
    "# Arquivo defs.py\n",
    "# ------------------------------\n",
    "\n",
    "import time\n",
    "from geopy.geocoders import Nominatim\n",
    "\n",
    "geolocator = Nominatim( user_agent='geopiExercises' )\n",
    "\n",
    "def get_longlat( x ):\n",
    "   index, row = x\n",
    "   time.sleep(1)\n",
    "   response = geolocator.reverse( row['query'] )\n",
    "   address = response.raw['address']\n",
    "\n",
    "   try:\n",
    "       place_id = response.raw['place_id'] if 'place_id' in response.raw else 'NA'\n",
    "       osm_type = response.raw['osm_type'] if 'osm_type' in response.raw else 'NA'\n",
    "\n",
    "       country = address['country'] if 'country' in address else 'NA'\n",
    "       country_code = address['country_code'] if 'country_code' in address else 'NA'\n",
    "\n",
    "       return place_id, osm_type, country, country_code\n",
    "\n",
    "   except:\n",
    "       return None, None, None, None"
   ]
  },
  {
   "cell_type": "code",
   "execution_count": null,
   "metadata": {
    "ExecuteTime": {
     "end_time": "2021-02-28T13:27:37.917950Z",
     "start_time": "2021-02-28T13:27:32.603613Z"
    }
   },
   "outputs": [],
   "source": [
    "import time\n",
    "import defs\n",
    "from multiprocessing import Pool\n",
    "\n",
    "data['query'] = data[['lat', 'long']].apply( lambda x: str( x['lat'] ) + ',' + str( x['long'] ), axis=1 )\n",
    "df1 = data[['id', 'query']].head()\n",
    "\n",
    "p = Pool(2)\n",
    "start = time.process_time()\n",
    "df1[['place_id', 'osm_type', 'country', 'country_code']] = p.map( defs.get_longlat, df1.iterrows() )\n",
    "print(time.process_time() - start)"
   ]
  },
  {
   "cell_type": "code",
   "execution_count": null,
   "metadata": {
    "ExecuteTime": {
     "end_time": "2021-02-28T13:27:37.938675Z",
     "start_time": "2021-02-28T13:27:37.920791Z"
    }
   },
   "outputs": [],
   "source": [
    "df1.head()"
   ]
  },
  {
   "cell_type": "markdown",
   "metadata": {
    "ExecuteTime": {
     "end_time": "2021-02-27T22:42:51.242679Z",
     "start_time": "2021-02-27T22:42:51.236168Z"
    }
   },
   "source": [
    "### 4. Adicione os seguinte filtros no Mapa:\n",
    "        - Tamanho mínimo da área da sala de estar.\n",
    "        - Número mínimo de banheiros.\n",
    "        - Valor Máximo do Preço.\n",
    "        - Tamanho máximo da área do porão.\n",
    "        - Filtro das Condições do Imóvel.\n",
    "        - Filtro por Ano de Construção."
   ]
  },
  {
   "cell_type": "code",
   "execution_count": null,
   "metadata": {
    "ExecuteTime": {
     "end_time": "2021-02-28T14:37:45.330516Z",
     "start_time": "2021-02-28T14:37:45.326763Z"
    }
   },
   "outputs": [],
   "source": [
    "data.columns"
   ]
  },
  {
   "cell_type": "code",
   "execution_count": null,
   "metadata": {
    "ExecuteTime": {
     "end_time": "2021-02-28T14:42:45.941519Z",
     "start_time": "2021-02-28T14:42:45.868392Z"
    }
   },
   "outputs": [],
   "source": [
    "# Prepare Data\n",
    "data['is_waterfront'] = data['waterfront'].apply( lambda x: 'yes' if x == 1 else 'no' )\n",
    "\n",
    "# define level of prices\n",
    "data['level'] = data['price'].apply( lambda x: 0 if x <= 321950 else \n",
    "                                           1 if ( x > 321950 ) & ( x <= 450000) else \n",
    "                                           2 if ( x > 450000 ) & ( x <= 645000 ) else 3 )\n",
    "data['level'] = data['level'].astype( int )\n",
    "\n",
    "# Iteractive buttons\n",
    "price_limit = widgets.IntSlider(\n",
    "    value = 540000,\n",
    "    min = 75000,\n",
    "    max = 7700000,\n",
    "    step = 1,\n",
    "    description='Maximun Price',\n",
    "    disable=False,\n",
    "    style={'description_width': 'initial'}\n",
    ")\n",
    "\n",
    "waterfront_bar = widgets.Dropdown(\n",
    "    options = data['is_waterfront'].unique().tolist(),\n",
    "    value = 'yes',\n",
    "    description = 'Water View',\n",
    "    disable=False\n",
    ")\n",
    "\n",
    "livingroom_limit = widgets.IntSlider(\n",
    "    value = int( data['sqft_living'].mean() ), \n",
    "    min = data['sqft_living'].min(),\n",
    "    max = data['sqft_living'].max(),\n",
    "    step = 1,\n",
    "    description='Minimum Living Room Size',\n",
    "    disable=False,\n",
    "    style={'description_width': 'initial'}\n",
    ")\n",
    "\n",
    "bathroom_limit = widgets.IntSlider(\n",
    "    value = int( data['bathrooms'].mean() ), \n",
    "    min = data['bathrooms'].min(),\n",
    "    max = data['bathrooms'].max(),\n",
    "    step = 1,\n",
    "    description='Minimum Bathroom Number',\n",
    "    disable=False,\n",
    "    style={'description_width': 'initial'}\n",
    ")\n",
    "\n",
    "basement_limit = widgets.IntSlider(\n",
    "    value = int( data['sqft_basement'].mean() ), \n",
    "    min = data['sqft_basement'].min(),\n",
    "    max = data['sqft_basement'].max(),\n",
    "    step = 1,\n",
    "    description='Minimum Basement Size',\n",
    "    disable=False,\n",
    "    style={'description_width': 'initial'}\n",
    ")\n",
    "\n",
    "condition_limit = widgets.IntSlider(\n",
    "    value = int( data['condition'].mean() ), \n",
    "    min = data['condition'].min(),\n",
    "    max = data['condition'].max(),\n",
    "    step = 1,\n",
    "    description='Minimum condition',\n",
    "    disable=False,\n",
    "    style={'description_width': 'initial'}\n",
    ")\n",
    "\n",
    "year_limit = widgets.IntSlider(\n",
    "    value = int( data['yr_built'].mean() ), \n",
    "    min = data['yr_built'].min(),\n",
    "    max = data['yr_built'].max(),\n",
    "    step = 1,\n",
    "    description='Year Built',\n",
    "    disable=False,\n",
    "    style={'description_width': 'initial'}\n",
    ")\n",
    "\n",
    "\n",
    "def update_map( df, waterfront, limit, livingroom_limit, bathroom_limit, basement_limit, condition_limit, year_limit ):\n",
    "    houses = df[(df['price'] <= limit) & \n",
    "                (df['is_waterfront'] == waterfront) &\n",
    "                (df['sqft_living'] >= livingroom_limit) &\n",
    "                (df['bathrooms'] >= bathroom_limit) &\n",
    "                (df['sqft_basement'] >= basement_limit) &\n",
    "                (df['condition'] >= condition_limit) &\n",
    "                (df['yr_built'] >= year_limit )][['id', 'lat', 'long', 'price', 'level']]\n",
    "    \n",
    "    fig = px.scatter_mapbox( houses, \n",
    "                             lat=\"lat\", \n",
    "                             lon=\"long\", \n",
    "                             size=\"price\",\n",
    "                             color=\"level\",\n",
    "                             color_continuous_scale=px.colors.cyclical.IceFire, \n",
    "                             size_max=15, \n",
    "                             zoom=10)\n",
    "\n",
    "    fig.update_layout(mapbox_style=\"open-street-map\")\n",
    "    fig.update_layout(height=600, margin={\"r\":0,\"t\":0,\"l\":0,\"b\":0})\n",
    "    fig.show()"
   ]
  },
  {
   "cell_type": "code",
   "execution_count": null,
   "metadata": {
    "ExecuteTime": {
     "end_time": "2021-02-28T14:42:56.616520Z",
     "start_time": "2021-02-28T14:42:56.524002Z"
    }
   },
   "outputs": [],
   "source": [
    "widgets.interactive( update_map, \n",
    "                     df=fixed( data ), \n",
    "                     waterfront=waterfront_bar, \n",
    "                     limit=price_limit, \n",
    "                     livingroom_limit=livingroom_limit,\n",
    "                     bathroom_limit=bathroom_limit,\n",
    "                     basement_limit=basement_limit,\n",
    "                     condition_limit=condition_limit,\n",
    "                     year_limit=year_limit\n",
    "                    )"
   ]
  },
  {
   "cell_type": "markdown",
   "metadata": {
    "ExecuteTime": {
     "end_time": "2021-02-27T22:42:51.242679Z",
     "start_time": "2021-02-27T22:42:51.236168Z"
    }
   },
   "source": [
    "### 5. Adicione os seguinte filtros no Dashboard:\n",
    "        - Filtro por data disponível para compra.\n",
    "        - Filtro por ano de renovação.\n",
    "        - Filtro se possui vista para a água ou não."
   ]
  },
  {
   "cell_type": "code",
   "execution_count": null,
   "metadata": {
    "ExecuteTime": {
     "end_time": "2021-02-28T14:17:30.304659Z",
     "start_time": "2021-02-28T14:17:29.861860Z"
    }
   },
   "outputs": [],
   "source": [
    "# Change data format\n",
    "data['year'] = pd.to_datetime( data['date'] ).dt.strftime( '%Y' )\n",
    "data['date'] = pd.to_datetime( data['date'] ).dt.strftime( '%Y-%m-%d' )\n",
    "data['year_week'] = pd.to_datetime( data['date'] ).dt.strftime( '%Y-%U' )\n",
    "\n",
    "# ----------------------------\n",
    "# Filtering\n",
    "# ----------------------------\n",
    "# Widget to control data\n",
    "date_limit = widgets.SelectionSlider( \n",
    "    options = data['date'].sort_values().unique().tolist(),\n",
    "    value='2014-12-01',\n",
    "    description='Max Available Date',\n",
    "    disable=False,\n",
    "    continuous_update=False,\n",
    "    orientation='horizontal',\n",
    "    style={'description_width': 'initial'},\n",
    "    readout=True\n",
    ")\n",
    "\n",
    "# Max Year Renovated\n",
    "year_limit = widgets.SelectionSlider( \n",
    "    options = data['yr_renovated'].sort_values().unique().tolist(),\n",
    "    value=2000,\n",
    "    description='Max Year',\n",
    "    disable=False,\n",
    "    continuous_update=False,\n",
    "    orientation='horizontal',\n",
    "    style={'description_width': 'initial'},\n",
    "    readout=True\n",
    ")\n",
    "\n",
    "# Waterfront\n",
    "waterfront_limit = widgets.Checkbox(\n",
    "    value=False,\n",
    "    description='Waterfront?',\n",
    "    disabled=False,\n",
    "    indent=False\n",
    ")\n",
    "\n",
    "def update_map( data, date_limit, year_limit, waterfront_limit ):\n",
    "    \n",
    "    # Filter data\n",
    "    df = data[(data['date'] <= date_limit) & \n",
    "              (data['yr_renovated'] >= year_limit) &\n",
    "              (data['waterfront'] == waterfront_limit)].copy()\n",
    "\n",
    "    fig = plt.figure( figsize=(24, 12) )\n",
    "    specs = gridspec.GridSpec( ncols=2, nrows=2, figure=fig )\n",
    "\n",
    "    ax1 = fig.add_subplot( specs[0, :] ) # First Row\n",
    "    ax2 = fig.add_subplot( specs[1, 0] ) # First Row First Column\n",
    "    ax3 = fig.add_subplot( specs[1, 1] ) # Second Row First Column\n",
    "\n",
    "    by_year = df[['id', 'year']].groupby( 'year' ).sum().reset_index()\n",
    "    ax1.bar( by_year['year'], by_year['id'] )\n",
    "\n",
    "    # Frist Graph\n",
    "    by_day = df[['id', 'date']].groupby( 'date' ).mean().reset_index()\n",
    "    ax2.plot( by_day['date'], by_day['id'] )\n",
    "    ax2.set_title( \"Title: Avg Price by Day\" )\n",
    "    \n",
    "    df['year_week'] = pd.to_datetime( df['date'] ).dt.strftime( '%Y-%U' )\n",
    "    by_week_of_year = df[['id', 'year_week']].groupby( 'year_week' ).mean().reset_index()\n",
    "    ax3.bar( by_week_of_year['year_week'], by_week_of_year['id'] )\n",
    "    ax3.set_title( \"Title: Avg Price by Week of Year\" )\n",
    "    plt.xticks( rotation=60);"
   ]
  },
  {
   "cell_type": "code",
   "execution_count": null,
   "metadata": {
    "ExecuteTime": {
     "end_time": "2021-02-28T14:17:33.751488Z",
     "start_time": "2021-02-28T14:17:31.078378Z"
    }
   },
   "outputs": [],
   "source": [
    "widgets.interactive( update_map, \n",
    "                     data = fixed( data ), \n",
    "                     date_limit=date_limit,\n",
    "                     year_limit=year_limit,\n",
    "                     waterfront_limit=waterfront_limit )"
   ]
  },
  {
   "cell_type": "code",
   "execution_count": null,
   "metadata": {},
   "outputs": [],
   "source": []
  }
 ],
 "metadata": {
  "kernelspec": {
   "display_name": "Python 3",
   "language": "python",
   "name": "python3"
  },
  "language_info": {
   "codemirror_mode": {
    "name": "ipython",
    "version": 3
   },
   "file_extension": ".py",
   "mimetype": "text/x-python",
   "name": "python",
   "nbconvert_exporter": "python",
   "pygments_lexer": "ipython3",
   "version": "3.9.7"
  }
 },
 "nbformat": 4,
 "nbformat_minor": 4
}
